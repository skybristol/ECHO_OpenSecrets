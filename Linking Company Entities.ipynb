{
 "cells": [
  {
   "cell_type": "markdown",
   "id": "ccbf8b40",
   "metadata": {},
   "source": [
    "This notebook explores the issue of tracing back through data in EPA's systems from facility identifiers to company identifiers. We want to get from specific facilities in the ECHO database to the business entities that operate those facilities such that we can connect other dots and provide more well-rounded information. The initial use case on this is getting from faclities to commercial organizations to political campaign contributions from those organizations to particular campaigns, candidates, members, and committees. While we can go from \"facility,\" which we have in the ECHO data now to contributors in the OpenSecrets data we are exploring, in some cases based on name matching/similarity, this is pretty fraught with potential problems. We need to get at the underlying commercial entities, disambiguate names, incorporate one or more unique identifiers, and come up with much more robust and certain data. From this connection, we will also be able to link out to a lot of other interesting information about particular commercial entities and create more actionable intelligence into our EEW system.\n",
    "\n",
    "The EPA data service I'm looking at here is the [Facility Registry Service](https://www.epa.gov/frs), which ties in with something called the [Central Data Exchange](https://cdx.epa.gov/About/AboutRegulation). This is where companies regulated through EPA submit and maintain information about their companies and regulated facilities. After exploring some of the functionality through FRS web services, setting up a process that uses downloaded data is likely to work out better for our purposes in the EEW project as we'll want to clear up some disambiguity in the underlying data and connect company entities to other information sources.\n",
    "\n",
    "The information that we'd want can be downloaded from [this page](https://www.epa.gov/frs/epa-state-combined-csv-download-files), which includes individual state downloads as well as a combined download that is over 1GB in size. The organization information is contained in the \"ORGANIZATION_FILE.CSV\" for either a specific state or the \"NATIONAL\" file. This data table links REGISTRATION_ID for a facility, the entities that we are looking at in the EEW scorecard process, to organization/company information. Sometimes these are essentially a one-to-one relationship, but there are many cases (perhaps most) where a given facility is actually a part of some particular company, which may also have subsidiary relationship to some other company. There's also a temporal dynamic to the data and the facility registration process, which gets really messy. I know from previous work I've done in CERCLA and MBTA law enforcement just how challenging it can be to track down exactly what commercial interests have been involved in a given facility through time. I think all of the data we need to get these dots connected is there; it's just going to be a matter of building out a process that makes the best sense of this we can, recording how we get to the linkages we make so that we are transparent in it and can correct any mistakes that come in over time.\n",
    "\n",
    "The sections in the notebook share some work in progress thinking on how to go about this challenge and where we can obtain data to help. I do reference a data folder that I'm not uploading to GitHub as it contains really large files pulled down from the EPA FRS system."
   ]
  },
  {
   "cell_type": "code",
   "execution_count": 1,
   "id": "b36c83c4",
   "metadata": {},
   "outputs": [],
   "source": [
    "import requests\n",
    "import pandas as pd\n",
    "import numpy as np\n",
    "import sys\n",
    "from SPARQLWrapper import SPARQLWrapper, JSON\n",
    "import tabula\n",
    "from uuid import uuid4"
   ]
  },
  {
   "cell_type": "markdown",
   "id": "e9526f9e",
   "metadata": {},
   "source": [
    "# Data Flow and Provenance Tracing\n",
    "We need a process that can be run routinely to check for new data, run \"dot-connecting\" code to link data submitted to the CDX and available through the FRS to other data, and set up derivative services for use in EEW. We need this system to track and record what it's doing through every step so that we can be fully transparent in what's happening in getting from some pretty messy data to usable data. We need this transparency in the process so that we and our users can be confident in the results we are presenting. Any parts of the process that we run introducing potentially undertain information have to be carefully thought through and orchestrated in a way that we can go back and revisit them if we find errors.\n",
    "\n",
    "For instance, the FRS data on companies has interesting things going on where, through time, a company name may be registered in multiple ways, likely by multiple divisions or people within that company responding to the regulatory requirement. This results in facility names and company names that are slightly or dramatically different but ultimately track back to the same entity. We're also looking here at the DUNS number (Dun & Bradstreet), a global registration process for financial transactions between commercial and non-commercial entities, as a linkable identifier contained in the FRS data. There are cases in the data where DUNS can be used to disambiguate between differently named companies but also cases where multiple divisions within an organization have different DUNS numbers. Anything we do in this kind of space is going to be imperfect, and we need a way of understanding where our imperfections lie and dealing with them based on their potential risk for the end result.\n",
    "\n",
    "Toward supporting an objective of both a technically robust and scalable solution for data flow with this new data dimension and potential application to the previous work on pulling in the ECHO data, I'm experimenting with the [Pachyderm](https://www.pachyderm.com/) platform. There are lots of data processing pipeline solutions in the open, commercial, and hybrid spaces. I also poked around at [Ploomber](https://github.com/ploomber/ploomber) as a project that is Jupyter Notebook based, which I thought was interesting.\n",
    "\n",
    "What I've liked about Pachyderm from the start is the way they've baked in versioning and provenance tracking around which everything else is designed. Data are loaded to a Git-based repository and automatically versioned through time. Versions kick off composed pipelines of processing based in Docker containers, scaled on Kubernetes; all pretty standard and well established methods and technologies. Pachyderm is running a [SaaS platform](https://docs.pachyderm.com/latest/hub/hub_getting_started/) that offers free 4-hour workspaces with enough capacity for me to start experimenting with, so I'm getting my head around how this might work in terms of the workflows necessary to fetch FRS data and process them for use.\n",
    "\n",
    "We're ultimately going to be dealing with a whole bunch of different source data starting points, from the FRS dataset to OpenSecrets data that is part of this use case and other content. Each source has some unique characteristics about how we have to check for updates and retrieve data. Many of them will also have some vagaries and potential issues in terms of break points where something might change in how a source is served up, causing us to need to adjust. We'll want to build in some safeguards and notification services that let us know when something goes wrong along with methods that mitigate for those issues. This needs to come with a thorough understanding of the dependencies between what will be loosely coupled data and processes so that we avoid chain reactions of errors cropping up if some particular process breaks for whatever reason. This is an area where I think implementing some framework like Pachyderm might really help the entire suite of things we are doing in the EEW project.\n",
    "\n",
    "## Data Source Interfaces\n",
    "The EPA FRS [REST services](https://www.epa.gov/frs/frs-rest-services) provide some interesting query possibilities, but they are not at all comprehensive into the underlying data. The [query UI](https://www.epa.gov/frs/frs-query) has much more comprehensive information and options, but it's not really machine-actionable. The [download](https://www.epa.gov/frs/epa-state-combined-csv-download-files) is a web page with links to ZIP files, but there's no service interface that tells us when something changes.\n",
    "\n",
    "As a bit of an aside, this is a real pet peeve of mine with government data services in general. Because of the way these things evolve over time, there are almost no cases of really well built and holistic data distribution architecture that integrates all three elements - API, UI, and bulk download. I've often encouraged an API-first mentality in all things - build every feature in a given system at the API level first, and then build everything else on top of that. This modality helps to force good design throughout an iterative process with built-in integration across what can be a complex landscape of capabilities.\n",
    "\n",
    "Once we start feeding FRS data into our system, the only real option we'll have is to check, on some sort of routine, the header of the download request for the Last-Modified date against our own log or existing source to determine if we need to trigger a download. In executing this with Pachyderm, this will be a small Dockerized process that essentially references a repo config for a given source, determines if an action is required, and triggers a download to the repo if needed. New data showing up in the repo will then kick off a processing pipeline. I've started composing this and will provide more info and links to Docker containers as I get it working."
   ]
  },
  {
   "cell_type": "code",
   "execution_count": 2,
   "id": "a2805e2c",
   "metadata": {},
   "outputs": [
    {
     "name": "stdout",
     "output_type": "stream",
     "text": [
      "{'Date': 'Sun, 12 Sep 2021 16:40:36 GMT', 'Server': 'Oracle-Application-Server-11g', 'Strict-Transport-Security': 'max-age=63072000; includeSubdomains; preload', 'Last-Modified': 'Thu, 02 Sep 2021 15:52:43 GMT', 'ETag': '\"5764d739-48ee0c44-5cb052c5b28c0\"', 'Accept-Ranges': 'bytes', 'Content-Length': '1223560260', 'Content-Type': 'application/zip', 'Content-Language': 'en', 'Keep-Alive': 'timeout=5, max=100', 'Connection': 'Keep-Alive'}\n"
     ]
    }
   ],
   "source": [
    "frs_national_download_url = \"https://ofmext.epa.gov/FLA/www3/state_files/national_combined.zip\"\n",
    "r_head = requests.head(frs_national_download_url)\n",
    "print(r_head.headers)"
   ]
  },
  {
   "cell_type": "markdown",
   "id": "b25b9f7c",
   "metadata": {},
   "source": [
    "# FRS Organization Data\n",
    "The state and national downloads of FRS data contain a PDF file that documents the contents. This is another pet peeve of mine that points to another principle related to the API-first dynamic described above - everything about your data should be expressed through the API first, and then layer on other representations. If you want to put a PDF file out for people to read about your data, that's fine; just give us something more usable as a foundation.\n",
    "\n",
    "We will want to have good documentation in our system behind EEW that corrects for this deficiency in areas we can do something about. To help in this, I experimented with several tools and methods for extracting raw content from the 2012-era documentation EPA is including in their FRS download.\n",
    "\n",
    "Camelot and Tablula-Py both seemed like they might be reasonable options as the documentation is organized in tables. Both of these produce Pandas dataframes for each table. Tables are broken up across pages, which could be concatenated together if we get columns to match up, complicated by the fact that not all tables have a header row with column names. Furthermore, the \"Field\" property used in the documentation tables doesn't actually line up with the property names in the data tables anyway. Rather, there's a \"Source: xxx\" tacked onto the end of the descriptions. This is in the form of a source_table.field_name string that tells us essentially how to stitch related tables together.\n",
    "    \n",
    "Given the fact that these data are all part of an overall system with multiple distribution points, there's a reasonable chance that descriptions and maybe even other technical details about some of the data are found elsewhere in better formats. The geospatial forms of the data EPA puts out generally come along with FGDC CSDGM metadata in XML format, which should have entity/attribute information we could leverage easier. However, those are functionally completely different datasets with documentation that we can't unequivically say lines up with what we get in the bulk download. We could do some further sleuthing and decide we can use some of it in a different context, but I'm sticking with trying to make sense of the documentation included with the actual data I'm trying to use here.\n",
    "\n",
    "After experimenting with other methods of extracting PDF text using the textract Python wrapper on more fundamental tools like Tesseract and Poppler, I ended up working with the Tabula-Py package. This creates a still quite messy but at least workable structure that I'll discuss a little bit below."
   ]
  },
  {
   "cell_type": "code",
   "execution_count": 3,
   "id": "38c5a2b6",
   "metadata": {},
   "outputs": [],
   "source": [
    "# Grab the tables from the applicable pages in the FRS documentation file\n",
    "frs_doc_tables = tabula.read_pdf(\n",
    "    \"data/Facility State File Documentation 11132012_new.pdf\",\n",
    "    pages=\"15-17\",\n",
    "    stream=True,\n",
    "    pandas_options={\"header\": None}\n",
    ")"
   ]
  },
  {
   "cell_type": "markdown",
   "id": "1bb009ce",
   "metadata": {},
   "source": [
    "Looking at these dataframes, we can see right away that we have some problems. Each dataframe here is a piece of the puzzle describing \"3.2.6 Organization File\" from the PDF documentation. I set header to none in the pandas options in order to avoid an issue where we get row content as column names when it's the first row of what Tabula reads as a distinct table. We can then get rid of rows with \"Field Name\" values (or some other filter), and name columns in a way that makes sense.\n",
    "\n",
    "The only information we really need from these tables is what's in the Description column. The Field Name is also somewhat useful as a plain language title for the field. The Length property isn't really useful as we can derive this from the actual data, and we don't really care anyway. The Type field isn't really useful either, except that we need to use it as a grouping factor. Looking at the extracted output of the dataframes, we see that both Field Name and Description are sometimes broken up across multiple rows based on line breaks and perhaps other formatting in the underlying text that Tabula interprets as distinct rows. We might be able to clean that up with pandas options or java options for the underling library Tabula uses.\n",
    "\n",
    "However, we can deal with this in another way with some row processing logic in Pandas. Looking at the raw tables, Type is the column that is interpreted here as a value populated for each record and simple enough to only come in once for each logical record. We can treat the first time Type shows up as the first row of a multi-row record, set a unique key value, and then group the values from other rows we want. This gives us a useful hook into the \"Source\" strings that provide the fields that are actually in our data (e.g., REGISTRY_ID) by setting these out as a distinct member of a grouped list.\n",
    "\n",
    "In the following codeblock, I run through this whole process, generating out the start to a schema document with keys that should correspond to properties/fields in our data table. I'm somewhat fond of the JSON Schema approach to documenting many different types of tabular data schemas and their properties. It gives us most of the essential documentation elements and has some useful tooling in Python and other languages for data validation and transformation. What I produce here is the stub to this for a properties array in a format that we can easily reference from our data. The source_table attribute here doesn't conform with JSON Schema; it just gives us the hook back to describe actual tables in the source dataset. This same method could be expanded to digest the full PDF document and all table/property descriptions into an overall suite of documentation for the entire schema."
   ]
  },
  {
   "cell_type": "code",
   "execution_count": 4,
   "id": "96dd38c0",
   "metadata": {},
   "outputs": [
    {
     "data": {
      "text/plain": [
       "{'REGISTRY_ID': {'title': 'Facility Registry Identifier',\n",
       "  'source_table': 'FRS_INTEREST',\n",
       "  'description': 'The identification number assigned by the EPA Facility Registry System to uniquely identify a facility site.'},\n",
       " 'STATE_NAME': {'title': 'Mailing Address State Name',\n",
       "  'source_table': 'FRS_MAILING_ADDRESS',\n",
       "  'description': 'The name of the state where mail is delivered.'},\n",
       " 'EIN': {'title': 'Employer Identifier',\n",
       "  'source_table': 'FRS_ORGANIZATION',\n",
       "  'description': 'The unique tax identification number issued by the Internal Revenue Service to the employer.'},\n",
       " 'STATE_CODE': {'title': 'Mailing Address State Code',\n",
       "  'source_table': 'FRS_MAILING_ADDRESS',\n",
       "  'description': 'The U.S. Postal Service abbreviation that represents the state or state equivalent for the U.S. and Canada.'},\n",
       " 'MAILING_ADDRESS': {'title': 'Mailing Address Text',\n",
       "  'source_table': 'FRS_MAILING_ADDRESS',\n",
       "  'description': 'The exact address where a mail piece is intended to be delivered, including urban-style street address, rural route, and PO Box.'},\n",
       " 'CITY_NAME': {'title': 'Mailing Address City Name',\n",
       "  'source_table': 'FRS_MAILING_ADDRESS',\n",
       "  'description': 'The name of the city, town, or village where the mail is delivered.'},\n",
       " 'POSTAL_CODE': {'title': 'Mailing Address Postal Code',\n",
       "  'source_table': 'FRS_MAILING_ADDRESS',\n",
       "  'description': 'The combination of the five-digit Zone Improvement Plan (ZIP) code and the four-digit extension code (if available) that represents the geographic segment that is a subunit of the ZIP Code, assigned by the U.S. Postal Service to a geographic location to facilitate mail delivery; or the postal zone specific to the country, other than the U.S., where the mail is delivered.'},\n",
       " 'ORG_NAME': {'title': 'Organization Formal Name',\n",
       "  'source_table': 'FRS_ORGANIZATION',\n",
       "  'description': 'The legal, formal name of an organization that is affiliated with the facility site.'},\n",
       " 'PHONE_NUMBER': {'title': 'Telephone Number',\n",
       "  'source_table': 'FRS_ORGANIZATION',\n",
       "  'description': 'The primary telephone number for an organization.'},\n",
       " 'INTEREST_TYPE': {'title': 'Environmental Interest Type',\n",
       "  'source_table': 'FRS_AFFILIATION',\n",
       "  'description': 'The environmental permit or regulatory program that applies to the facility site (e.g., TRI Reporter, NPDES Major, NPDES Non-Major, Large Quantity Generator (LQG), Air Major, Air Minor). See interest type definitions at http://www.epa.gov/enviro/html/frs_demo/presentations/interest_ty pes.pdf'},\n",
       " 'END_DATE': {'title': 'Affiliation End Date',\n",
       "  'source_table': 'FRS_AFFILIATION',\n",
       "  'description': 'The date on which the affiliation between the facility site and the organization and/or individual person ended (YYYYMMDD).'},\n",
       " 'SUPPLEMENTAL_ADDRESS': {'title': 'Supplemental Address Text',\n",
       "  'source_table': 'FRS_MAILING_ADDRESS',\n",
       "  'description': 'The text that provides additional information to facilitate the delivery of a mail piece, including building name, secondary units, and mail stop or local box numbers not serviced by the U.S. Postal Service.'},\n",
       " 'FAX_NUMBER': {'title': 'FAX Number',\n",
       "  'source_table': 'FRS_ORGANIZATION',\n",
       "  'description': 'The telephone number to which a facsimile can be sent to an organization.'},\n",
       " 'DUNS_NUMBER': {'title': 'Organization DUNS Number',\n",
       "  'source_table': 'FRS_ORGANIZATION',\n",
       "  'description': 'The Data Universal Numbering System (DUNS) number assigned by Dun and Bradstreet to identify unique business establishments.'},\n",
       " 'AFFILIATION_TYPE': {'title': 'Affiliation Type',\n",
       "  'source_table': 'FRS_AFFILIATION',\n",
       "  'description': 'The name that describes the capacity or function that an organization or individual serves for a facility site. Allowable Values (examples): Organization  Individual Legally Responsible EntityReport Certifier Legal Operator  Regulatory Contact Waste Treater  Public Contact Waste Handler  Technical Contact Land Owner  Owner Parent Corporation  Operator Owner/Operator'},\n",
       " 'COUNTRY_NAME': {'title': 'Mailing Address Country Name',\n",
       "  'source_table': 'FRS_MAILING_ADDRESS',\n",
       "  'description': 'The name of the country where the addressee is located. Default: United States'},\n",
       " 'ALTERNATE_PHONE': {'title': 'Alternate Telephone Number',\n",
       "  'source_table': 'FRS_ORGANIZATION',\n",
       "  'description': 'An alternate telephone number for an organization.'},\n",
       " 'START_DATE': {'title': 'Affiliation Start Date',\n",
       "  'source_table': 'FRS_AFFILIATION',\n",
       "  'description': 'The date on which the affiliation between the facility site and the organization and/or individual person began (YYYYMMDD).'},\n",
       " 'PGM_SYS_ACRNM': {'title': 'Information System Abbreviated Name',\n",
       "  'source_table': 'FRS_AFFILIATION',\n",
       "  'description': 'The abbreviated name that represents the name of an information management system for an environmental program. Program System Definitions can be viewed at http://www.epa.gov/enviro/html/fii/prog_sys.html. Source:'},\n",
       " 'ORG_TYPE': {'title': 'Organization Type Text',\n",
       "  'source_table': 'FRS_OR GANIZATION',\n",
       "  'description': 'The type of organization. Allowable Values (examples): Federal  Private GOCO  County District  Tribal Municipal  Other State'},\n",
       " 'DIVISION_NAME': {'title': 'Company Division Name',\n",
       "  'source_table': 'FRS_ORGANIZATION',\n",
       "  'description': 'The name of a division or department of a company.'},\n",
       " 'PGM_SYS_ID': {'title': 'Information System Identifier',\n",
       "  'source_table': 'FRS_AFFILIATION',\n",
       "  'description': 'The identification number, such as the permit number, assigned by an information management system that represents a facility site, waste site, operable unit, or other feature tracked by that Environmental Information System.'},\n",
       " 'STATE_BUSINESS_ID': {'title': 'State Business Identifier',\n",
       "  'source_table': 'FRS_ORGANIZATION',\n",
       "  'description': 'The uniform business number assigned to an official business by a state.'},\n",
       " 'EMAIL_ADDRESS': {'title': 'Email Address Text',\n",
       "  'source_table': 'FRS_ORGANIZATION',\n",
       "  'description': 'The text that describes an electronic mail address of an organization.'}}"
      ]
     },
     "execution_count": 4,
     "metadata": {},
     "output_type": "execute_result"
    }
   ],
   "source": [
    "# Fix a couple of issues in the dataframes, pull out usable columns, and concatenate them together\n",
    "column_names = [\"titles\",\"grouper\",\"descriptions\"]\n",
    "usable_dfs = list()\n",
    "for df in frs_doc_tables[1:]:\n",
    "    if len(df.columns) > 5:\n",
    "        df[3] = df.apply(lambda x: x[2] if isinstance(x[2], str) else x[3], axis=1)\n",
    "        df_usable = df[[1,3,5]]\n",
    "    else:\n",
    "        df_usable = df[[1,2,4]]\n",
    "    df_usable.columns = column_names\n",
    "    df_usable = df_usable[df_usable.titles != 'Field Name']\n",
    "    usable_dfs.append(df_usable)\n",
    "    \n",
    "df_stitched_tables = pd.concat(usable_dfs)\n",
    "\n",
    "# Assign a new grouping column as a unique ID and forward fill nulls to give us a grouping factor\n",
    "df_stitched_tables['uuid'] = df_stitched_tables['grouper'].apply(lambda _: uuid4() if isinstance(_, str) else None)\n",
    "df_stitched_tables[\"uuid\"] = df_stitched_tables[\"uuid\"].fillna(method=\"ffill\")\n",
    "\n",
    "# Take care of some issues with empty strings\n",
    "df_stitched_tables = df_stitched_tables.replace(r'^\\s*$', np.nan, regex=True)\n",
    "\n",
    "# Group on the new UUID and put tuples together from values in title and description\n",
    "grouped_fields = df_stitched_tables[[\"uuid\",\"titles\",\"descriptions\"]].groupby(\"uuid\")\n",
    "df_frs_org_documentation = grouped_fields.aggregate(lambda x: tuple(x[x.notnull()]))\n",
    "\n",
    "# Build the start to schema documentation that we can use as a resource to check field definitions\n",
    "frs_org_schema = dict()\n",
    "for index, row in df_frs_org_documentation.iterrows():\n",
    "    property_name_parts = row.descriptions[-1].split(\":\")[-1].strip().split(\".\")\n",
    "    frs_org_schema[property_name_parts[-1]] = {\n",
    "        \"title\": \" \".join(row.titles),\n",
    "        \"source_table\": property_name_parts[0],\n",
    "        \"description\": \" \".join(row.descriptions[:-1])\n",
    "    }\n",
    "    \n",
    "frs_org_schema"
   ]
  },
  {
   "cell_type": "markdown",
   "id": "a4525aaf",
   "metadata": {},
   "source": [
    "If we take a quick peak at the columns in our giant table of organizations, we can see that we've been able to successfully extract a documentation structure that aligns with column names."
   ]
  },
  {
   "cell_type": "code",
   "execution_count": 5,
   "id": "70c175e6",
   "metadata": {},
   "outputs": [
    {
     "name": "stdout",
     "output_type": "stream",
     "text": [
      "REGISTRY_ID\n"
     ]
    },
    {
     "data": {
      "text/plain": [
       "{'title': 'Facility Registry Identifier',\n",
       " 'source_table': 'FRS_INTEREST',\n",
       " 'description': 'The identification number assigned by the EPA Facility Registry System to uniquely identify a facility site.'}"
      ]
     },
     "metadata": {},
     "output_type": "display_data"
    },
    {
     "name": "stdout",
     "output_type": "stream",
     "text": [
      "PGM_SYS_ACRNM\n"
     ]
    },
    {
     "data": {
      "text/plain": [
       "{'title': 'Information System Abbreviated Name',\n",
       " 'source_table': 'FRS_AFFILIATION',\n",
       " 'description': 'The abbreviated name that represents the name of an information management system for an environmental program. Program System Definitions can be viewed at http://www.epa.gov/enviro/html/fii/prog_sys.html. Source:'}"
      ]
     },
     "metadata": {},
     "output_type": "display_data"
    },
    {
     "name": "stdout",
     "output_type": "stream",
     "text": [
      "PGM_SYS_ID\n"
     ]
    },
    {
     "data": {
      "text/plain": [
       "{'title': 'Information System Identifier',\n",
       " 'source_table': 'FRS_AFFILIATION',\n",
       " 'description': 'The identification number, such as the permit number, assigned by an information management system that represents a facility site, waste site, operable unit, or other feature tracked by that Environmental Information System.'}"
      ]
     },
     "metadata": {},
     "output_type": "display_data"
    },
    {
     "name": "stdout",
     "output_type": "stream",
     "text": [
      "INTEREST_TYPE\n"
     ]
    },
    {
     "data": {
      "text/plain": [
       "{'title': 'Environmental Interest Type',\n",
       " 'source_table': 'FRS_AFFILIATION',\n",
       " 'description': 'The environmental permit or regulatory program that applies to the facility site (e.g., TRI Reporter, NPDES Major, NPDES Non-Major, Large Quantity Generator (LQG), Air Major, Air Minor). See interest type definitions at http://www.epa.gov/enviro/html/frs_demo/presentations/interest_ty pes.pdf'}"
      ]
     },
     "metadata": {},
     "output_type": "display_data"
    },
    {
     "name": "stdout",
     "output_type": "stream",
     "text": [
      "AFFILIATION_TYPE\n"
     ]
    },
    {
     "data": {
      "text/plain": [
       "{'title': 'Affiliation Type',\n",
       " 'source_table': 'FRS_AFFILIATION',\n",
       " 'description': 'The name that describes the capacity or function that an organization or individual serves for a facility site. Allowable Values (examples): Organization  Individual Legally Responsible EntityReport Certifier Legal Operator  Regulatory Contact Waste Treater  Public Contact Waste Handler  Technical Contact Land Owner  Owner Parent Corporation  Operator Owner/Operator'}"
      ]
     },
     "metadata": {},
     "output_type": "display_data"
    },
    {
     "name": "stdout",
     "output_type": "stream",
     "text": [
      "START_DATE\n"
     ]
    },
    {
     "data": {
      "text/plain": [
       "{'title': 'Affiliation Start Date',\n",
       " 'source_table': 'FRS_AFFILIATION',\n",
       " 'description': 'The date on which the affiliation between the facility site and the organization and/or individual person began (YYYYMMDD).'}"
      ]
     },
     "metadata": {},
     "output_type": "display_data"
    },
    {
     "name": "stdout",
     "output_type": "stream",
     "text": [
      "END_DATE\n"
     ]
    },
    {
     "data": {
      "text/plain": [
       "{'title': 'Affiliation End Date',\n",
       " 'source_table': 'FRS_AFFILIATION',\n",
       " 'description': 'The date on which the affiliation between the facility site and the organization and/or individual person ended (YYYYMMDD).'}"
      ]
     },
     "metadata": {},
     "output_type": "display_data"
    },
    {
     "name": "stdout",
     "output_type": "stream",
     "text": [
      "ORG_NAME\n"
     ]
    },
    {
     "data": {
      "text/plain": [
       "{'title': 'Organization Formal Name',\n",
       " 'source_table': 'FRS_ORGANIZATION',\n",
       " 'description': 'The legal, formal name of an organization that is affiliated with the facility site.'}"
      ]
     },
     "metadata": {},
     "output_type": "display_data"
    },
    {
     "name": "stdout",
     "output_type": "stream",
     "text": [
      "ORG_TYPE\n"
     ]
    },
    {
     "data": {
      "text/plain": [
       "{'title': 'Organization Type Text',\n",
       " 'source_table': 'FRS_OR GANIZATION',\n",
       " 'description': 'The type of organization. Allowable Values (examples): Federal  Private GOCO  County District  Tribal Municipal  Other State'}"
      ]
     },
     "metadata": {},
     "output_type": "display_data"
    },
    {
     "name": "stdout",
     "output_type": "stream",
     "text": [
      "DUNS_NUMBER\n"
     ]
    },
    {
     "data": {
      "text/plain": [
       "{'title': 'Organization DUNS Number',\n",
       " 'source_table': 'FRS_ORGANIZATION',\n",
       " 'description': 'The Data Universal Numbering System (DUNS) number assigned by Dun and Bradstreet to identify unique business establishments.'}"
      ]
     },
     "metadata": {},
     "output_type": "display_data"
    },
    {
     "name": "stdout",
     "output_type": "stream",
     "text": [
      "DIVISION_NAME\n"
     ]
    },
    {
     "data": {
      "text/plain": [
       "{'title': 'Company Division Name',\n",
       " 'source_table': 'FRS_ORGANIZATION',\n",
       " 'description': 'The name of a division or department of a company.'}"
      ]
     },
     "metadata": {},
     "output_type": "display_data"
    },
    {
     "name": "stdout",
     "output_type": "stream",
     "text": [
      "PHONE_NUMBER\n"
     ]
    },
    {
     "data": {
      "text/plain": [
       "{'title': 'Telephone Number',\n",
       " 'source_table': 'FRS_ORGANIZATION',\n",
       " 'description': 'The primary telephone number for an organization.'}"
      ]
     },
     "metadata": {},
     "output_type": "display_data"
    },
    {
     "name": "stdout",
     "output_type": "stream",
     "text": [
      "ALTERNATE_PHONE\n"
     ]
    },
    {
     "data": {
      "text/plain": [
       "{'title': 'Alternate Telephone Number',\n",
       " 'source_table': 'FRS_ORGANIZATION',\n",
       " 'description': 'An alternate telephone number for an organization.'}"
      ]
     },
     "metadata": {},
     "output_type": "display_data"
    },
    {
     "name": "stdout",
     "output_type": "stream",
     "text": [
      "FAX_NUMBER\n"
     ]
    },
    {
     "data": {
      "text/plain": [
       "{'title': 'FAX Number',\n",
       " 'source_table': 'FRS_ORGANIZATION',\n",
       " 'description': 'The telephone number to which a facsimile can be sent to an organization.'}"
      ]
     },
     "metadata": {},
     "output_type": "display_data"
    },
    {
     "name": "stdout",
     "output_type": "stream",
     "text": [
      "EMAIL_ADDRESS\n"
     ]
    },
    {
     "data": {
      "text/plain": [
       "{'title': 'Email Address Text',\n",
       " 'source_table': 'FRS_ORGANIZATION',\n",
       " 'description': 'The text that describes an electronic mail address of an organization.'}"
      ]
     },
     "metadata": {},
     "output_type": "display_data"
    },
    {
     "name": "stdout",
     "output_type": "stream",
     "text": [
      "EIN\n"
     ]
    },
    {
     "data": {
      "text/plain": [
       "{'title': 'Employer Identifier',\n",
       " 'source_table': 'FRS_ORGANIZATION',\n",
       " 'description': 'The unique tax identification number issued by the Internal Revenue Service to the employer.'}"
      ]
     },
     "metadata": {},
     "output_type": "display_data"
    },
    {
     "name": "stdout",
     "output_type": "stream",
     "text": [
      "STATE_BUSINESS_ID\n"
     ]
    },
    {
     "data": {
      "text/plain": [
       "{'title': 'State Business Identifier',\n",
       " 'source_table': 'FRS_ORGANIZATION',\n",
       " 'description': 'The uniform business number assigned to an official business by a state.'}"
      ]
     },
     "metadata": {},
     "output_type": "display_data"
    },
    {
     "name": "stdout",
     "output_type": "stream",
     "text": [
      "MAILING_ADDRESS\n"
     ]
    },
    {
     "data": {
      "text/plain": [
       "{'title': 'Mailing Address Text',\n",
       " 'source_table': 'FRS_MAILING_ADDRESS',\n",
       " 'description': 'The exact address where a mail piece is intended to be delivered, including urban-style street address, rural route, and PO Box.'}"
      ]
     },
     "metadata": {},
     "output_type": "display_data"
    },
    {
     "name": "stdout",
     "output_type": "stream",
     "text": [
      "SUPPLEMENTAL_ADDRESS\n"
     ]
    },
    {
     "data": {
      "text/plain": [
       "{'title': 'Supplemental Address Text',\n",
       " 'source_table': 'FRS_MAILING_ADDRESS',\n",
       " 'description': 'The text that provides additional information to facilitate the delivery of a mail piece, including building name, secondary units, and mail stop or local box numbers not serviced by the U.S. Postal Service.'}"
      ]
     },
     "metadata": {},
     "output_type": "display_data"
    },
    {
     "name": "stdout",
     "output_type": "stream",
     "text": [
      "CITY_NAME\n"
     ]
    },
    {
     "data": {
      "text/plain": [
       "{'title': 'Mailing Address City Name',\n",
       " 'source_table': 'FRS_MAILING_ADDRESS',\n",
       " 'description': 'The name of the city, town, or village where the mail is delivered.'}"
      ]
     },
     "metadata": {},
     "output_type": "display_data"
    },
    {
     "name": "stdout",
     "output_type": "stream",
     "text": [
      "STATE_CODE\n"
     ]
    },
    {
     "data": {
      "text/plain": [
       "{'title': 'Mailing Address State Code',\n",
       " 'source_table': 'FRS_MAILING_ADDRESS',\n",
       " 'description': 'The U.S. Postal Service abbreviation that represents the state or state equivalent for the U.S. and Canada.'}"
      ]
     },
     "metadata": {},
     "output_type": "display_data"
    },
    {
     "name": "stdout",
     "output_type": "stream",
     "text": [
      "STATE_NAME\n"
     ]
    },
    {
     "data": {
      "text/plain": [
       "{'title': 'Mailing Address State Name',\n",
       " 'source_table': 'FRS_MAILING_ADDRESS',\n",
       " 'description': 'The name of the state where mail is delivered.'}"
      ]
     },
     "metadata": {},
     "output_type": "display_data"
    },
    {
     "name": "stdout",
     "output_type": "stream",
     "text": [
      "POSTAL_CODE\n"
     ]
    },
    {
     "data": {
      "text/plain": [
       "{'title': 'Mailing Address Postal Code',\n",
       " 'source_table': 'FRS_MAILING_ADDRESS',\n",
       " 'description': 'The combination of the five-digit Zone Improvement Plan (ZIP) code and the four-digit extension code (if available) that represents the geographic segment that is a subunit of the ZIP Code, assigned by the U.S. Postal Service to a geographic location to facilitate mail delivery; or the postal zone specific to the country, other than the U.S., where the mail is delivered.'}"
      ]
     },
     "metadata": {},
     "output_type": "display_data"
    },
    {
     "name": "stdout",
     "output_type": "stream",
     "text": [
      "COUNTRY_NAME\n"
     ]
    },
    {
     "data": {
      "text/plain": [
       "{'title': 'Mailing Address Country Name',\n",
       " 'source_table': 'FRS_MAILING_ADDRESS',\n",
       " 'description': 'The name of the country where the addressee is located. Default: United States'}"
      ]
     },
     "metadata": {},
     "output_type": "display_data"
    }
   ],
   "source": [
    "# Grab the first row of the organizations file to get it's columns\n",
    "df_frs_orgs_peak = pd.read_csv(\n",
    "    \"data/NATIONAL_ORGANIZATION_FILE.CSV\",\n",
    "    nrows=1\n",
    ")\n",
    "\n",
    "for col_name in df_frs_orgs_peak.columns:\n",
    "    print(col_name)\n",
    "    if col_name in frs_org_schema:\n",
    "        display(frs_org_schema[col_name])"
   ]
  },
  {
   "cell_type": "markdown",
   "id": "2153cdf4",
   "metadata": {},
   "source": [
    "# Examining Organization (Company) Identifiers\n",
    "The FRS data provides essentially three different identifiers that give us a chance to hook these records to something larger from which we can link effectively across disparate datasets, like the information in the campaign finance records from OpenSecrets that is an initial motivating use case.\n",
    "* DUNS_NUMBER from the [Dun and Bradstreet](https://www.dnb.com/) registry\n",
    "* EIN - Employer Identifier Number associated with payrolls and taxes\n",
    "* STATE_BUSINESS_ID that may be usable with a state by state analysis of other sources\n",
    "\n",
    "These identifiers are not universally populated in the data, and we have no real way of evaluating quality of the information just by looking at what's provided in the FRS other than basic consistency checks, which may not mean much. We also have organization names, some of which might be fairly straightforward but come with ambiguity problems, and other clues like addresses that might be combined with other information to help pin things down.\n",
    "\n",
    "Each of these identifiers comes with its own challenges. There are a lot of incentives to keeping information about commercial companies, particularly privately held firms, out of the public domain or at least obfuscated. Companies like D&B have a whole business model built around building up a proprietary database of commercial entity information. The reason their DUNS numbers are in places like the EPA database is that they provide a hook into that proprietary system that other organizations buy into and use for various purposes. For instance, if you apply for an NSF grant you almost always have to have a DUNS number associated with your university or lab or even government organization that is then used to do things like check on financial standing, audit status, risk analysis, and other details that get tied back into the DUNS system.\n",
    "\n",
    "EIN numbers can be accessible for companies registered with the SEC, but they are much more difficult to find for private companies. US State Secretaries of State offices are generally the agency regulating businesses, and we might be able to hook on the state business IDs included in the FRS data. However, each one of those systems is very different with widely varying interfaces and fragmented availability of data.\n",
    "\n",
    "I had some hope of using Wikidata as a neutral and publicly accessible arbiter. Information on elected members of Congress is pretty complete in Wikidata through time and includes FEC identifiers that we find in the OpenSecrets campaign finance data. I run through this below, but you'll see some less than satisfactory results. We might or might not be able to start making our own contributions to Wikidata as a place to house linked data.\n",
    "\n",
    "Philosophically, I like the elegance of using Wikidata and data models already established to house parts of our overall data/information model as a resource we tap to drive different kinds of data integration pipelines. It would put more information into the public domain that many other groups can also take advantage of, and we might find kindred spirits there to all jump in on contributions together. However, the WikiMedia Foundation's own operating principles can serve to thwart this approach in that the community rigorously monitors itself for cases of copyright infringement or anything like it. New records for entities and claims on entities should be referenced to a source that can be verified as already in the public domain, with Wikidata just a place where all that information is coming together. Running wholesale processes to populate Wikidata with information of questionable provenance can be met with getting booted off the system, even though it happens pretty frequently."
   ]
  },
  {
   "cell_type": "code",
   "execution_count": 6,
   "id": "8d83b4ca",
   "metadata": {},
   "outputs": [
    {
     "name": "stdout",
     "output_type": "stream",
     "text": [
      "CPU times: user 8.92 s, sys: 2.28 s, total: 11.2 s\n",
      "Wall time: 15.3 s\n"
     ]
    }
   ],
   "source": [
    "%%time\n",
    "# Grab the whole dataset on REGISTRY_ID and just the columns to examine DUNS_NUMBER\n",
    "df_frs_orgs = pd.read_csv(\n",
    "    \"data/NATIONAL_ORGANIZATION_FILE.CSV\", \n",
    "    index_col=[\"REGISTRY_ID\"],\n",
    "    usecols=[\"REGISTRY_ID\",\"ORG_NAME\",\"ORG_TYPE\",\"DUNS_NUMBER\",\"EIN\"],\n",
    "    low_memory=False\n",
    ")"
   ]
  },
  {
   "cell_type": "markdown",
   "id": "5ea6ada4",
   "metadata": {},
   "source": [
    "## DUNS Numbers\n",
    "I started here with a check to see if we can find any of our companies with DUNS numbers using the [DUNS identifier property](https://www.wikidata.org/wiki/Property:P2771) in Wikidata. I first pull out a dataframe with just those organization records populated with DUNS_NUMBER and then consult Wikidata.\n",
    "\n",
    "Just looking at the head here from the FRS data, we can see that we have interesting issues like a very slight variation in one company name and two different DUNS numbers for what is quite likely the same entity. These might have come into the EPA CDX registry at different times. They both point to the same REGISTRY_ID value. We may or may not be able to completely decipher what's going on with what is a very large database."
   ]
  },
  {
   "cell_type": "code",
   "execution_count": 7,
   "id": "770d11ea",
   "metadata": {},
   "outputs": [
    {
     "name": "stdout",
     "output_type": "stream",
     "text": [
      "21130\n"
     ]
    },
    {
     "data": {
      "text/html": [
       "<div>\n",
       "<style scoped>\n",
       "    .dataframe tbody tr th:only-of-type {\n",
       "        vertical-align: middle;\n",
       "    }\n",
       "\n",
       "    .dataframe tbody tr th {\n",
       "        vertical-align: top;\n",
       "    }\n",
       "\n",
       "    .dataframe thead th {\n",
       "        text-align: right;\n",
       "    }\n",
       "</style>\n",
       "<table border=\"1\" class=\"dataframe\">\n",
       "  <thead>\n",
       "    <tr style=\"text-align: right;\">\n",
       "      <th></th>\n",
       "      <th>ORG_NAME</th>\n",
       "      <th>ORG_TYPE</th>\n",
       "      <th>DUNS_NUMBER</th>\n",
       "      <th>EIN</th>\n",
       "    </tr>\n",
       "    <tr>\n",
       "      <th>REGISTRY_ID</th>\n",
       "      <th></th>\n",
       "      <th></th>\n",
       "      <th></th>\n",
       "      <th></th>\n",
       "    </tr>\n",
       "  </thead>\n",
       "  <tbody>\n",
       "    <tr>\n",
       "      <th>110000491735</th>\n",
       "      <td>MARATHON PETROLEUM CORP</td>\n",
       "      <td>PRIVATE</td>\n",
       "      <td>968393996</td>\n",
       "      <td>NaN</td>\n",
       "    </tr>\n",
       "    <tr>\n",
       "      <th>110000491735</th>\n",
       "      <td>PETRO STAR INC.</td>\n",
       "      <td>PRIVATE</td>\n",
       "      <td>131463705</td>\n",
       "      <td>NaN</td>\n",
       "    </tr>\n",
       "    <tr>\n",
       "      <th>110000491744</th>\n",
       "      <td>CHEVRON USA INC</td>\n",
       "      <td>PRIVATE</td>\n",
       "      <td>009140559</td>\n",
       "      <td>NaN</td>\n",
       "    </tr>\n",
       "    <tr>\n",
       "      <th>110000491762</th>\n",
       "      <td>UNIVAR SOLUTIONS USA, INC</td>\n",
       "      <td>UNKNOWN</td>\n",
       "      <td>181523838</td>\n",
       "      <td>NaN</td>\n",
       "    </tr>\n",
       "    <tr>\n",
       "      <th>110000491762</th>\n",
       "      <td>UNIVAR SOLUTIONS USA INC.</td>\n",
       "      <td>UNKNOWN</td>\n",
       "      <td>102971785</td>\n",
       "      <td>NaN</td>\n",
       "    </tr>\n",
       "  </tbody>\n",
       "</table>\n",
       "</div>"
      ],
      "text/plain": [
       "                               ORG_NAME ORG_TYPE DUNS_NUMBER  EIN\n",
       "REGISTRY_ID                                                      \n",
       "110000491735    MARATHON PETROLEUM CORP  PRIVATE   968393996  NaN\n",
       "110000491735            PETRO STAR INC.  PRIVATE   131463705  NaN\n",
       "110000491744            CHEVRON USA INC  PRIVATE   009140559  NaN\n",
       "110000491762  UNIVAR SOLUTIONS USA, INC  UNKNOWN   181523838  NaN\n",
       "110000491762  UNIVAR SOLUTIONS USA INC.  UNKNOWN   102971785  NaN"
      ]
     },
     "metadata": {},
     "output_type": "display_data"
    }
   ],
   "source": [
    "df_companies_with_duns = df_frs_orgs[df_frs_orgs.DUNS_NUMBER.notnull()]\n",
    "print(len(df_companies_with_duns.DUNS_NUMBER.unique()))\n",
    "display(df_companies_with_duns.head())"
   ]
  },
  {
   "cell_type": "markdown",
   "id": "e4e2a2f3",
   "metadata": {},
   "source": [
    "Wikidata can be queried through its SPARQL end point, which is decipherable through its [query builder](https://query.wikidata.org/). SPARQL is a very low level interface that is accessing very granulary data in triples. Complex SQPARQL queries can be crafted to go after data in interesting ways, but it's not a tech that I own very well at all. I mostly have found it easier to go after a batch of records, pull those into memory or some other data structure, and then work with that from there.\n",
    "\n",
    "At the end of the day, Wikidata is a really simple model that can contain very rich information when well-populated. For what we're interested in here, it's basically just entities and claims/statements. Entities have nothing more than an identifier (persistent and resolvable), name, description, and aliases in different languages. Claims (or statements) are linked to entities, some of which are in a special category of identifiers as in the case of our DUNS numbers (and [EIN](https://www.wikidata.org/wiki/Property:P1297), which we'll get to later). All claims are based on a registered property that is also in Wikidata with a unique, persistent, and resolvable identifier. Properties are the chief governance mechanism in Wikidata, with a review and community acceptance process based on a meritocratic system of proven contributions. Property values can point to other Wikidata entities or to some other type of value that is controlled by the characteristics and rules set for the property.\n",
    "\n",
    "In the codeblock below, I lay out a function for building a query for Wikidata entities that have a particular property to return the Wikidata ID, entity name, and value of the requested."
   ]
  },
  {
   "cell_type": "code",
   "execution_count": 8,
   "id": "31c86bef",
   "metadata": {},
   "outputs": [],
   "source": [
    "# Need to work out what I can set up as a more referenceable source for apps like this\n",
    "user_agent = \"CompanyNameDisambiguator/0.1 (https://github.com/skybristol; skybristol@github) pydisambig/0.1\"\n",
    "\n",
    "# Property mapping for convenience and reference\n",
    "property_mapping = {\n",
    "    \"DUNS_NUMBER\": \"https://www.wikidata.org/wiki/Property:P2771\",\n",
    "    \"EIN\": \"https://www.wikidata.org/wiki/Property:P1297\"\n",
    "}\n",
    "\n",
    "def get_wd_by_property(\n",
    "    property_name, \n",
    "    endpoint_url=\"https://query.wikidata.org/sparql\", \n",
    "    user_agent=user_agent,\n",
    "    return_format=\"dataframe\"\n",
    "):\n",
    "    if property_name not in property_mapping:\n",
    "        return\n",
    "\n",
    "    query = \"\"\"SELECT\n",
    "      ?item ?itemLabel\n",
    "      ?prop\n",
    "    WHERE \n",
    "    {\n",
    "      ?item wdt:%s ?prop\n",
    "      SERVICE wikibase:label { bd:serviceParam wikibase:language \"[AUTO_LANGUAGE],en\". }\n",
    "    }\n",
    "    \"\"\" % property_mapping[property_name].split(\":\")[-1]\n",
    "    \n",
    "    sparql = SPARQLWrapper(endpoint_url, agent=user_agent)\n",
    "    sparql.setQuery(query)\n",
    "    sparql.setReturnFormat(JSON)\n",
    "    wikidata_results = sparql.query().convert()\n",
    "    \n",
    "    if return_format == \"raw\":\n",
    "        return wikidata_results\n",
    "\n",
    "    dataset = [\n",
    "        {\n",
    "            \"wd_url\": i[\"item\"][\"value\"],\n",
    "            \"name\": i[\"itemLabel\"][\"value\"],\n",
    "            property_name: i[\"prop\"][\"value\"]\n",
    "        } for i in wikidata_results[\"results\"][\"bindings\"]\n",
    "    ]\n",
    "    \n",
    "    if return_format == \"dataframe\":\n",
    "        return pd.DataFrame(dataset)\n",
    "\n",
    "    return dataset\n",
    "\n"
   ]
  },
  {
   "cell_type": "code",
   "execution_count": 9,
   "id": "9b225b21",
   "metadata": {},
   "outputs": [],
   "source": [
    "df_duns_in_wikidata = get_wd_by_property(\"DUNS_NUMBER\", return_format=\"dataframe\")"
   ]
  },
  {
   "cell_type": "markdown",
   "id": "571d7b13",
   "metadata": {},
   "source": [
    "At this point, we have 171 entities that probably are all companies of one kind or another with DUNS number values as identifiers in Wikidata. That's not very many to begin with. When we look at our huge set of FRS data with over 20K references to unique DUNS numbers, we only get 4 matches on pretty well-known companies. Bummer!"
   ]
  },
  {
   "cell_type": "code",
   "execution_count": 10,
   "id": "665e4ff7",
   "metadata": {},
   "outputs": [
    {
     "data": {
      "text/html": [
       "<div>\n",
       "<style scoped>\n",
       "    .dataframe tbody tr th:only-of-type {\n",
       "        vertical-align: middle;\n",
       "    }\n",
       "\n",
       "    .dataframe tbody tr th {\n",
       "        vertical-align: top;\n",
       "    }\n",
       "\n",
       "    .dataframe thead th {\n",
       "        text-align: right;\n",
       "    }\n",
       "</style>\n",
       "<table border=\"1\" class=\"dataframe\">\n",
       "  <thead>\n",
       "    <tr style=\"text-align: right;\">\n",
       "      <th></th>\n",
       "      <th>wd_url</th>\n",
       "      <th>name</th>\n",
       "      <th>DUNS_NUMBER</th>\n",
       "    </tr>\n",
       "  </thead>\n",
       "  <tbody>\n",
       "    <tr>\n",
       "      <th>0</th>\n",
       "      <td>http://www.wikidata.org/entity/Q72314763</td>\n",
       "      <td>The Textile Workshop</td>\n",
       "      <td>218140170</td>\n",
       "    </tr>\n",
       "    <tr>\n",
       "      <th>1</th>\n",
       "      <td>http://www.wikidata.org/entity/Q107560167</td>\n",
       "      <td>ARCap REIT Inc.</td>\n",
       "      <td>13962951</td>\n",
       "    </tr>\n",
       "    <tr>\n",
       "      <th>2</th>\n",
       "      <td>http://www.wikidata.org/entity/Q97119297</td>\n",
       "      <td>Memo Bank</td>\n",
       "      <td>269529865</td>\n",
       "    </tr>\n",
       "    <tr>\n",
       "      <th>3</th>\n",
       "      <td>http://www.wikidata.org/entity/Q97824053</td>\n",
       "      <td>Biosciences Research Support Foundation</td>\n",
       "      <td>851737506</td>\n",
       "    </tr>\n",
       "    <tr>\n",
       "      <th>4</th>\n",
       "      <td>http://www.wikidata.org/entity/Q98446892</td>\n",
       "      <td>DuckDuckGo Inc.</td>\n",
       "      <td>012746047</td>\n",
       "    </tr>\n",
       "    <tr>\n",
       "      <th>...</th>\n",
       "      <td>...</td>\n",
       "      <td>...</td>\n",
       "      <td>...</td>\n",
       "    </tr>\n",
       "    <tr>\n",
       "      <th>166</th>\n",
       "      <td>http://www.wikidata.org/entity/Q4040469</td>\n",
       "      <td>Headhunter</td>\n",
       "      <td>683397278</td>\n",
       "    </tr>\n",
       "    <tr>\n",
       "      <th>167</th>\n",
       "      <td>http://www.wikidata.org/entity/Q22671360</td>\n",
       "      <td>Alcatel-Lucent Enterprise</td>\n",
       "      <td>491320359</td>\n",
       "    </tr>\n",
       "    <tr>\n",
       "      <th>168</th>\n",
       "      <td>http://www.wikidata.org/entity/Q44124288</td>\n",
       "      <td>Best Fishing In Alaska, LLC</td>\n",
       "      <td>080967295</td>\n",
       "    </tr>\n",
       "    <tr>\n",
       "      <th>169</th>\n",
       "      <td>http://www.wikidata.org/entity/Q50359906</td>\n",
       "      <td>CAD Studio (Arkance Systems)</td>\n",
       "      <td>495048469</td>\n",
       "    </tr>\n",
       "    <tr>\n",
       "      <th>170</th>\n",
       "      <td>http://www.wikidata.org/entity/Q64620876</td>\n",
       "      <td>Agiloft</td>\n",
       "      <td>836078865</td>\n",
       "    </tr>\n",
       "  </tbody>\n",
       "</table>\n",
       "<p>171 rows × 3 columns</p>\n",
       "</div>"
      ],
      "text/plain": [
       "                                        wd_url  \\\n",
       "0     http://www.wikidata.org/entity/Q72314763   \n",
       "1    http://www.wikidata.org/entity/Q107560167   \n",
       "2     http://www.wikidata.org/entity/Q97119297   \n",
       "3     http://www.wikidata.org/entity/Q97824053   \n",
       "4     http://www.wikidata.org/entity/Q98446892   \n",
       "..                                         ...   \n",
       "166    http://www.wikidata.org/entity/Q4040469   \n",
       "167   http://www.wikidata.org/entity/Q22671360   \n",
       "168   http://www.wikidata.org/entity/Q44124288   \n",
       "169   http://www.wikidata.org/entity/Q50359906   \n",
       "170   http://www.wikidata.org/entity/Q64620876   \n",
       "\n",
       "                                        name DUNS_NUMBER  \n",
       "0                       The Textile Workshop   218140170  \n",
       "1                            ARCap REIT Inc.    13962951  \n",
       "2                                  Memo Bank   269529865  \n",
       "3    Biosciences Research Support Foundation   851737506  \n",
       "4                            DuckDuckGo Inc.   012746047  \n",
       "..                                       ...         ...  \n",
       "166                               Headhunter   683397278  \n",
       "167                Alcatel-Lucent Enterprise   491320359  \n",
       "168              Best Fishing In Alaska, LLC   080967295  \n",
       "169             CAD Studio (Arkance Systems)   495048469  \n",
       "170                                  Agiloft   836078865  \n",
       "\n",
       "[171 rows x 3 columns]"
      ]
     },
     "metadata": {},
     "output_type": "display_data"
    },
    {
     "data": {
      "text/html": [
       "<div>\n",
       "<style scoped>\n",
       "    .dataframe tbody tr th:only-of-type {\n",
       "        vertical-align: middle;\n",
       "    }\n",
       "\n",
       "    .dataframe tbody tr th {\n",
       "        vertical-align: top;\n",
       "    }\n",
       "\n",
       "    .dataframe thead th {\n",
       "        text-align: right;\n",
       "    }\n",
       "</style>\n",
       "<table border=\"1\" class=\"dataframe\">\n",
       "  <thead>\n",
       "    <tr style=\"text-align: right;\">\n",
       "      <th></th>\n",
       "      <th>wd_url</th>\n",
       "      <th>name</th>\n",
       "      <th>DUNS_NUMBER</th>\n",
       "    </tr>\n",
       "  </thead>\n",
       "  <tbody>\n",
       "    <tr>\n",
       "      <th>14</th>\n",
       "      <td>http://www.wikidata.org/entity/Q6792378</td>\n",
       "      <td>Maui Land &amp; Pineapple Company</td>\n",
       "      <td>009132184</td>\n",
       "    </tr>\n",
       "    <tr>\n",
       "      <th>73</th>\n",
       "      <td>http://www.wikidata.org/entity/Q329953</td>\n",
       "      <td>Northrop Grumman</td>\n",
       "      <td>967356127</td>\n",
       "    </tr>\n",
       "    <tr>\n",
       "      <th>161</th>\n",
       "      <td>http://www.wikidata.org/entity/Q7240</td>\n",
       "      <td>Lockheed Martin</td>\n",
       "      <td>834951691</td>\n",
       "    </tr>\n",
       "    <tr>\n",
       "      <th>163</th>\n",
       "      <td>http://www.wikidata.org/entity/Q206921</td>\n",
       "      <td>Pfizer</td>\n",
       "      <td>001326495</td>\n",
       "    </tr>\n",
       "  </tbody>\n",
       "</table>\n",
       "</div>"
      ],
      "text/plain": [
       "                                      wd_url                           name  \\\n",
       "14   http://www.wikidata.org/entity/Q6792378  Maui Land & Pineapple Company   \n",
       "73    http://www.wikidata.org/entity/Q329953               Northrop Grumman   \n",
       "161     http://www.wikidata.org/entity/Q7240                Lockheed Martin   \n",
       "163   http://www.wikidata.org/entity/Q206921                         Pfizer   \n",
       "\n",
       "    DUNS_NUMBER  \n",
       "14    009132184  \n",
       "73    967356127  \n",
       "161   834951691  \n",
       "163   001326495  "
      ]
     },
     "metadata": {},
     "output_type": "display_data"
    }
   ],
   "source": [
    "display(df_duns_in_wikidata)\n",
    "display(df_duns_in_wikidata[df_duns_in_wikidata.DUNS_NUMBER.isin(df_companies_with_duns.DUNS_NUMBER.unique())])"
   ]
  },
  {
   "cell_type": "markdown",
   "id": "324a9ff9",
   "metadata": {},
   "source": [
    "## Employer Identification Numbers\n",
    "We can now run the same process to look for EIN, which yields only slightly better results. We first have to split EIN values from FRS data on their first two characters to line up with the format used in Wikidata. Even though we have many more Wikidata entities with EIN identifiers, we still only end up with a handful that we can directly match to organization records in our EPA FRS data. We'll need to go after a different source and do some more sleuthing to make sure we haven't done anything weird in processing."
   ]
  },
  {
   "cell_type": "code",
   "execution_count": 11,
   "id": "2fb2fd69",
   "metadata": {},
   "outputs": [
    {
     "data": {
      "text/plain": [
       "25582"
      ]
     },
     "execution_count": 11,
     "metadata": {},
     "output_type": "execute_result"
    }
   ],
   "source": [
    "def ein_to_string(ein):\n",
    "    if str(ein) == \"0\":\n",
    "        return\n",
    "    return \"-\".join([str(ein)[:2],str(ein)[2:]])\n",
    "\n",
    "df_frs_orgs['EIN_STR'] = df_frs_orgs[\"EIN\"].apply(ein_to_string)\n",
    "\n",
    "df_companies_with_ein = df_frs_orgs[(df_frs_orgs.EIN_STR != \"na-n\") & (df_frs_orgs.EIN_STR.notnull())]\n",
    "len(df_companies_with_ein.EIN_STR.unique())"
   ]
  },
  {
   "cell_type": "code",
   "execution_count": 12,
   "id": "97efc56d",
   "metadata": {},
   "outputs": [],
   "source": [
    "df_ein_in_wikidata = get_wd_by_property(\"EIN\", return_format=\"dataframe\")"
   ]
  },
  {
   "cell_type": "code",
   "execution_count": 13,
   "id": "fec8970b",
   "metadata": {},
   "outputs": [
    {
     "data": {
      "text/html": [
       "<div>\n",
       "<style scoped>\n",
       "    .dataframe tbody tr th:only-of-type {\n",
       "        vertical-align: middle;\n",
       "    }\n",
       "\n",
       "    .dataframe tbody tr th {\n",
       "        vertical-align: top;\n",
       "    }\n",
       "\n",
       "    .dataframe thead th {\n",
       "        text-align: right;\n",
       "    }\n",
       "</style>\n",
       "<table border=\"1\" class=\"dataframe\">\n",
       "  <thead>\n",
       "    <tr style=\"text-align: right;\">\n",
       "      <th></th>\n",
       "      <th>wd_url</th>\n",
       "      <th>name</th>\n",
       "      <th>EIN</th>\n",
       "    </tr>\n",
       "  </thead>\n",
       "  <tbody>\n",
       "    <tr>\n",
       "      <th>0</th>\n",
       "      <td>http://www.wikidata.org/entity/Q43449</td>\n",
       "      <td>Creative Commons</td>\n",
       "      <td>04-3585301</td>\n",
       "    </tr>\n",
       "    <tr>\n",
       "      <th>1</th>\n",
       "      <td>http://www.wikidata.org/entity/Q35476</td>\n",
       "      <td>AT&amp;T</td>\n",
       "      <td>20-8686806</td>\n",
       "    </tr>\n",
       "    <tr>\n",
       "      <th>2</th>\n",
       "      <td>http://www.wikidata.org/entity/Q49135</td>\n",
       "      <td>Isabella Stewart Gardner Museum</td>\n",
       "      <td>04-2104334</td>\n",
       "    </tr>\n",
       "    <tr>\n",
       "      <th>3</th>\n",
       "      <td>http://www.wikidata.org/entity/Q114071</td>\n",
       "      <td>Perkins School for the Blind</td>\n",
       "      <td>04-2103616</td>\n",
       "    </tr>\n",
       "    <tr>\n",
       "      <th>4</th>\n",
       "      <td>http://www.wikidata.org/entity/Q128316</td>\n",
       "      <td>Honolulu Museum of Art</td>\n",
       "      <td>99-0079713</td>\n",
       "    </tr>\n",
       "    <tr>\n",
       "      <th>...</th>\n",
       "      <td>...</td>\n",
       "      <td>...</td>\n",
       "      <td>...</td>\n",
       "    </tr>\n",
       "    <tr>\n",
       "      <th>11760</th>\n",
       "      <td>http://www.wikidata.org/entity/Q54559891</td>\n",
       "      <td>Habitat for Humanity of Pinellas County</td>\n",
       "      <td>59-2509116</td>\n",
       "    </tr>\n",
       "    <tr>\n",
       "      <th>11761</th>\n",
       "      <td>http://www.wikidata.org/entity/Q54624094</td>\n",
       "      <td>Goodwill Industries of South Florida</td>\n",
       "      <td>59-0866126</td>\n",
       "    </tr>\n",
       "    <tr>\n",
       "      <th>11762</th>\n",
       "      <td>http://www.wikidata.org/entity/Q54628764</td>\n",
       "      <td>Long Island Alzheimer's Foundation</td>\n",
       "      <td>11-2926958</td>\n",
       "    </tr>\n",
       "    <tr>\n",
       "      <th>11763</th>\n",
       "      <td>http://www.wikidata.org/entity/Q54629520</td>\n",
       "      <td>Greensboro Jewish Federation</td>\n",
       "      <td>23-7107693</td>\n",
       "    </tr>\n",
       "    <tr>\n",
       "      <th>11764</th>\n",
       "      <td>http://www.wikidata.org/entity/Q54670092</td>\n",
       "      <td>Catholic Charities, Archdiocese of St. Louis</td>\n",
       "      <td>43-0653270</td>\n",
       "    </tr>\n",
       "  </tbody>\n",
       "</table>\n",
       "<p>11765 rows × 3 columns</p>\n",
       "</div>"
      ],
      "text/plain": [
       "                                         wd_url  \\\n",
       "0         http://www.wikidata.org/entity/Q43449   \n",
       "1         http://www.wikidata.org/entity/Q35476   \n",
       "2         http://www.wikidata.org/entity/Q49135   \n",
       "3        http://www.wikidata.org/entity/Q114071   \n",
       "4        http://www.wikidata.org/entity/Q128316   \n",
       "...                                         ...   \n",
       "11760  http://www.wikidata.org/entity/Q54559891   \n",
       "11761  http://www.wikidata.org/entity/Q54624094   \n",
       "11762  http://www.wikidata.org/entity/Q54628764   \n",
       "11763  http://www.wikidata.org/entity/Q54629520   \n",
       "11764  http://www.wikidata.org/entity/Q54670092   \n",
       "\n",
       "                                               name         EIN  \n",
       "0                                  Creative Commons  04-3585301  \n",
       "1                                              AT&T  20-8686806  \n",
       "2                   Isabella Stewart Gardner Museum  04-2104334  \n",
       "3                      Perkins School for the Blind  04-2103616  \n",
       "4                            Honolulu Museum of Art  99-0079713  \n",
       "...                                             ...         ...  \n",
       "11760       Habitat for Humanity of Pinellas County  59-2509116  \n",
       "11761          Goodwill Industries of South Florida  59-0866126  \n",
       "11762            Long Island Alzheimer's Foundation  11-2926958  \n",
       "11763                  Greensboro Jewish Federation  23-7107693  \n",
       "11764  Catholic Charities, Archdiocese of St. Louis  43-0653270  \n",
       "\n",
       "[11765 rows x 3 columns]"
      ]
     },
     "metadata": {},
     "output_type": "display_data"
    },
    {
     "data": {
      "text/html": [
       "<div>\n",
       "<style scoped>\n",
       "    .dataframe tbody tr th:only-of-type {\n",
       "        vertical-align: middle;\n",
       "    }\n",
       "\n",
       "    .dataframe tbody tr th {\n",
       "        vertical-align: top;\n",
       "    }\n",
       "\n",
       "    .dataframe thead th {\n",
       "        text-align: right;\n",
       "    }\n",
       "</style>\n",
       "<table border=\"1\" class=\"dataframe\">\n",
       "  <thead>\n",
       "    <tr style=\"text-align: right;\">\n",
       "      <th></th>\n",
       "      <th>wd_url</th>\n",
       "      <th>name</th>\n",
       "      <th>EIN</th>\n",
       "    </tr>\n",
       "  </thead>\n",
       "  <tbody>\n",
       "    <tr>\n",
       "      <th>353</th>\n",
       "      <td>http://www.wikidata.org/entity/Q7763221</td>\n",
       "      <td>The Seeing Eye</td>\n",
       "      <td>22-1539721</td>\n",
       "    </tr>\n",
       "    <tr>\n",
       "      <th>406</th>\n",
       "      <td>http://www.wikidata.org/entity/Q312</td>\n",
       "      <td>Apple Inc.</td>\n",
       "      <td>94-2404110</td>\n",
       "    </tr>\n",
       "    <tr>\n",
       "      <th>651</th>\n",
       "      <td>http://www.wikidata.org/entity/Q54557427</td>\n",
       "      <td>Boy Scouts of America National Council</td>\n",
       "      <td>22-1576300</td>\n",
       "    </tr>\n",
       "    <tr>\n",
       "      <th>861</th>\n",
       "      <td>http://www.wikidata.org/entity/Q54834384</td>\n",
       "      <td>Griffin Pond Animal Shelter</td>\n",
       "      <td>24-0831491</td>\n",
       "    </tr>\n",
       "    <tr>\n",
       "      <th>1407</th>\n",
       "      <td>http://www.wikidata.org/entity/Q66</td>\n",
       "      <td>Boeing</td>\n",
       "      <td>91-0425694</td>\n",
       "    </tr>\n",
       "    <tr>\n",
       "      <th>1408</th>\n",
       "      <td>http://www.wikidata.org/entity/Q37156</td>\n",
       "      <td>IBM</td>\n",
       "      <td>13-0871985</td>\n",
       "    </tr>\n",
       "    <tr>\n",
       "      <th>2094</th>\n",
       "      <td>http://www.wikidata.org/entity/Q54559868</td>\n",
       "      <td>Habitat for Humanity of San Antonio</td>\n",
       "      <td>74-1897502</td>\n",
       "    </tr>\n",
       "    <tr>\n",
       "      <th>2100</th>\n",
       "      <td>http://www.wikidata.org/entity/Q54559861</td>\n",
       "      <td>Dallas Area Habitat for Humanity</td>\n",
       "      <td>75-2097161</td>\n",
       "    </tr>\n",
       "    <tr>\n",
       "      <th>2799</th>\n",
       "      <td>http://www.wikidata.org/entity/Q104610148</td>\n",
       "      <td>Baptist Standard</td>\n",
       "      <td>75-0800610</td>\n",
       "    </tr>\n",
       "    <tr>\n",
       "      <th>3002</th>\n",
       "      <td>http://www.wikidata.org/entity/Q5357475</td>\n",
       "      <td>Electric Reliability Council of Texas</td>\n",
       "      <td>74-2587416</td>\n",
       "    </tr>\n",
       "    <tr>\n",
       "      <th>3436</th>\n",
       "      <td>http://www.wikidata.org/entity/Q54556891</td>\n",
       "      <td>United Way of Essex and West Hudson</td>\n",
       "      <td>22-6069078</td>\n",
       "    </tr>\n",
       "    <tr>\n",
       "      <th>3547</th>\n",
       "      <td>http://www.wikidata.org/entity/Q54624809</td>\n",
       "      <td>Atlantic City Rescue Mission</td>\n",
       "      <td>22-6076337</td>\n",
       "    </tr>\n",
       "    <tr>\n",
       "      <th>3855</th>\n",
       "      <td>http://www.wikidata.org/entity/Q54814947</td>\n",
       "      <td>East Texas Food Bank</td>\n",
       "      <td>75-2222686</td>\n",
       "    </tr>\n",
       "    <tr>\n",
       "      <th>4542</th>\n",
       "      <td>http://www.wikidata.org/entity/Q7882874</td>\n",
       "      <td>Uncommon Schools</td>\n",
       "      <td>31-1488698</td>\n",
       "    </tr>\n",
       "    <tr>\n",
       "      <th>4895</th>\n",
       "      <td>http://www.wikidata.org/entity/Q54559862</td>\n",
       "      <td>Bryan/College Station Habitat for Humanity</td>\n",
       "      <td>74-2542417</td>\n",
       "    </tr>\n",
       "    <tr>\n",
       "      <th>5324</th>\n",
       "      <td>http://www.wikidata.org/entity/Q54860734</td>\n",
       "      <td>Camp John Marc</td>\n",
       "      <td>75-2205242</td>\n",
       "    </tr>\n",
       "    <tr>\n",
       "      <th>5603</th>\n",
       "      <td>http://www.wikidata.org/entity/Q38076</td>\n",
       "      <td>McDonald’s</td>\n",
       "      <td>36-2361282</td>\n",
       "    </tr>\n",
       "    <tr>\n",
       "      <th>5611</th>\n",
       "      <td>http://www.wikidata.org/entity/Q319642</td>\n",
       "      <td>Chevron Corporation</td>\n",
       "      <td>94-0890210</td>\n",
       "    </tr>\n",
       "    <tr>\n",
       "      <th>5669</th>\n",
       "      <td>http://www.wikidata.org/entity/Q1543874</td>\n",
       "      <td>The Hertz Corporation</td>\n",
       "      <td>13-1938568</td>\n",
       "    </tr>\n",
       "    <tr>\n",
       "      <th>7043</th>\n",
       "      <td>http://www.wikidata.org/entity/Q156238</td>\n",
       "      <td>ExxonMobil</td>\n",
       "      <td>13-5409005</td>\n",
       "    </tr>\n",
       "    <tr>\n",
       "      <th>7053</th>\n",
       "      <td>http://www.wikidata.org/entity/Q333718</td>\n",
       "      <td>Johnson &amp; Johnson</td>\n",
       "      <td>22-1024240</td>\n",
       "    </tr>\n",
       "    <tr>\n",
       "      <th>7366</th>\n",
       "      <td>http://www.wikidata.org/entity/Q7194136</td>\n",
       "      <td>Pillar of Fire International</td>\n",
       "      <td>23-7075340</td>\n",
       "    </tr>\n",
       "    <tr>\n",
       "      <th>7774</th>\n",
       "      <td>http://www.wikidata.org/entity/Q54559858</td>\n",
       "      <td>Houston Habitat for Humanity</td>\n",
       "      <td>76-0207084</td>\n",
       "    </tr>\n",
       "    <tr>\n",
       "      <th>8472</th>\n",
       "      <td>http://www.wikidata.org/entity/Q54173</td>\n",
       "      <td>General Electric</td>\n",
       "      <td>14-0689340</td>\n",
       "    </tr>\n",
       "    <tr>\n",
       "      <th>8485</th>\n",
       "      <td>http://www.wikidata.org/entity/Q459965</td>\n",
       "      <td>Caterpillar Inc.</td>\n",
       "      <td>37-0602744</td>\n",
       "    </tr>\n",
       "    <tr>\n",
       "      <th>8507</th>\n",
       "      <td>http://www.wikidata.org/entity/Q851641</td>\n",
       "      <td>Equinix</td>\n",
       "      <td>77-0487526</td>\n",
       "    </tr>\n",
       "    <tr>\n",
       "      <th>8516</th>\n",
       "      <td>http://www.wikidata.org/entity/Q1187243</td>\n",
       "      <td>United States Golf Association</td>\n",
       "      <td>13-1427105</td>\n",
       "    </tr>\n",
       "    <tr>\n",
       "      <th>8554</th>\n",
       "      <td>http://www.wikidata.org/entity/Q2887300</td>\n",
       "      <td>Bass Performance Hall</td>\n",
       "      <td>75-2457270</td>\n",
       "    </tr>\n",
       "    <tr>\n",
       "      <th>9110</th>\n",
       "      <td>http://www.wikidata.org/entity/Q54557423</td>\n",
       "      <td>Boy Scouts of America, Cradle of Liberty Council</td>\n",
       "      <td>23-1352052</td>\n",
       "    </tr>\n",
       "    <tr>\n",
       "      <th>9176</th>\n",
       "      <td>http://www.wikidata.org/entity/Q54557052</td>\n",
       "      <td>YMCA of Greater Houston</td>\n",
       "      <td>74-1109737</td>\n",
       "    </tr>\n",
       "    <tr>\n",
       "      <th>10656</th>\n",
       "      <td>http://www.wikidata.org/entity/Q54559866</td>\n",
       "      <td>Austin Habitat for Humanity</td>\n",
       "      <td>74-2373217</td>\n",
       "    </tr>\n",
       "    <tr>\n",
       "      <th>11107</th>\n",
       "      <td>http://www.wikidata.org/entity/Q54862875</td>\n",
       "      <td>Metro YMCAs of the Oranges</td>\n",
       "      <td>22-1487387</td>\n",
       "    </tr>\n",
       "    <tr>\n",
       "      <th>11425</th>\n",
       "      <td>http://www.wikidata.org/entity/Q54862778</td>\n",
       "      <td>Arms of Hope</td>\n",
       "      <td>75-0904045</td>\n",
       "    </tr>\n",
       "    <tr>\n",
       "      <th>11726</th>\n",
       "      <td>http://www.wikidata.org/entity/Q54862780</td>\n",
       "      <td>Cal Farley's</td>\n",
       "      <td>75-0808768</td>\n",
       "    </tr>\n",
       "  </tbody>\n",
       "</table>\n",
       "</div>"
      ],
      "text/plain": [
       "                                          wd_url  \\\n",
       "353      http://www.wikidata.org/entity/Q7763221   \n",
       "406          http://www.wikidata.org/entity/Q312   \n",
       "651     http://www.wikidata.org/entity/Q54557427   \n",
       "861     http://www.wikidata.org/entity/Q54834384   \n",
       "1407          http://www.wikidata.org/entity/Q66   \n",
       "1408       http://www.wikidata.org/entity/Q37156   \n",
       "2094    http://www.wikidata.org/entity/Q54559868   \n",
       "2100    http://www.wikidata.org/entity/Q54559861   \n",
       "2799   http://www.wikidata.org/entity/Q104610148   \n",
       "3002     http://www.wikidata.org/entity/Q5357475   \n",
       "3436    http://www.wikidata.org/entity/Q54556891   \n",
       "3547    http://www.wikidata.org/entity/Q54624809   \n",
       "3855    http://www.wikidata.org/entity/Q54814947   \n",
       "4542     http://www.wikidata.org/entity/Q7882874   \n",
       "4895    http://www.wikidata.org/entity/Q54559862   \n",
       "5324    http://www.wikidata.org/entity/Q54860734   \n",
       "5603       http://www.wikidata.org/entity/Q38076   \n",
       "5611      http://www.wikidata.org/entity/Q319642   \n",
       "5669     http://www.wikidata.org/entity/Q1543874   \n",
       "7043      http://www.wikidata.org/entity/Q156238   \n",
       "7053      http://www.wikidata.org/entity/Q333718   \n",
       "7366     http://www.wikidata.org/entity/Q7194136   \n",
       "7774    http://www.wikidata.org/entity/Q54559858   \n",
       "8472       http://www.wikidata.org/entity/Q54173   \n",
       "8485      http://www.wikidata.org/entity/Q459965   \n",
       "8507      http://www.wikidata.org/entity/Q851641   \n",
       "8516     http://www.wikidata.org/entity/Q1187243   \n",
       "8554     http://www.wikidata.org/entity/Q2887300   \n",
       "9110    http://www.wikidata.org/entity/Q54557423   \n",
       "9176    http://www.wikidata.org/entity/Q54557052   \n",
       "10656   http://www.wikidata.org/entity/Q54559866   \n",
       "11107   http://www.wikidata.org/entity/Q54862875   \n",
       "11425   http://www.wikidata.org/entity/Q54862778   \n",
       "11726   http://www.wikidata.org/entity/Q54862780   \n",
       "\n",
       "                                                   name         EIN  \n",
       "353                                      The Seeing Eye  22-1539721  \n",
       "406                                          Apple Inc.  94-2404110  \n",
       "651              Boy Scouts of America National Council  22-1576300  \n",
       "861                         Griffin Pond Animal Shelter  24-0831491  \n",
       "1407                                             Boeing  91-0425694  \n",
       "1408                                                IBM  13-0871985  \n",
       "2094                Habitat for Humanity of San Antonio  74-1897502  \n",
       "2100                   Dallas Area Habitat for Humanity  75-2097161  \n",
       "2799                                   Baptist Standard  75-0800610  \n",
       "3002              Electric Reliability Council of Texas  74-2587416  \n",
       "3436                United Way of Essex and West Hudson  22-6069078  \n",
       "3547                       Atlantic City Rescue Mission  22-6076337  \n",
       "3855                               East Texas Food Bank  75-2222686  \n",
       "4542                                   Uncommon Schools  31-1488698  \n",
       "4895         Bryan/College Station Habitat for Humanity  74-2542417  \n",
       "5324                                     Camp John Marc  75-2205242  \n",
       "5603                                         McDonald’s  36-2361282  \n",
       "5611                                Chevron Corporation  94-0890210  \n",
       "5669                              The Hertz Corporation  13-1938568  \n",
       "7043                                         ExxonMobil  13-5409005  \n",
       "7053                                  Johnson & Johnson  22-1024240  \n",
       "7366                       Pillar of Fire International  23-7075340  \n",
       "7774                       Houston Habitat for Humanity  76-0207084  \n",
       "8472                                   General Electric  14-0689340  \n",
       "8485                                   Caterpillar Inc.  37-0602744  \n",
       "8507                                            Equinix  77-0487526  \n",
       "8516                     United States Golf Association  13-1427105  \n",
       "8554                              Bass Performance Hall  75-2457270  \n",
       "9110   Boy Scouts of America, Cradle of Liberty Council  23-1352052  \n",
       "9176                            YMCA of Greater Houston  74-1109737  \n",
       "10656                       Austin Habitat for Humanity  74-2373217  \n",
       "11107                        Metro YMCAs of the Oranges  22-1487387  \n",
       "11425                                      Arms of Hope  75-0904045  \n",
       "11726                                      Cal Farley's  75-0808768  "
      ]
     },
     "metadata": {},
     "output_type": "display_data"
    }
   ],
   "source": [
    "display(df_ein_in_wikidata)\n",
    "display(df_ein_in_wikidata[df_ein_in_wikidata.EIN.isin(df_companies_with_ein.EIN_STR.unique())])"
   ]
  },
  {
   "cell_type": "code",
   "execution_count": null,
   "id": "fb8d9e63",
   "metadata": {},
   "outputs": [],
   "source": []
  }
 ],
 "metadata": {
  "kernelspec": {
   "display_name": "Python 3 (ipykernel)",
   "language": "python",
   "name": "python3"
  },
  "language_info": {
   "codemirror_mode": {
    "name": "ipython",
    "version": 3
   },
   "file_extension": ".py",
   "mimetype": "text/x-python",
   "name": "python",
   "nbconvert_exporter": "python",
   "pygments_lexer": "ipython3",
   "version": "3.9.6"
  }
 },
 "nbformat": 4,
 "nbformat_minor": 5
}
